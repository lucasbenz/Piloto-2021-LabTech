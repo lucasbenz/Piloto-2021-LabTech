{
 "cells": [
  {
   "cell_type": "code",
   "execution_count": 1,
   "id": "9b0897d5",
   "metadata": {},
   "outputs": [],
   "source": [
    "import pyodbc\n",
    "import pandas as pd\n",
    "from datetime import datetime\n",
    "import hashlib as hs"
   ]
  },
  {
   "cell_type": "code",
   "execution_count": 148,
   "id": "2624a1af",
   "metadata": {},
   "outputs": [],
   "source": [
    "def conectar(config):\n",
    "    cnxn = pyodbc.connect('DSN='+ config[5], SERVER=config[0] + ',' + config[1],UID=config[3], PWD=config[4])\n",
    "    crsr = cnxn.cursor()\n",
    "    row  = crsr.execute(\"SELECT * FROM \"+config[6]).fetchone()\n",
    "    #cnxn.close()\n",
    "    if row =='':\n",
    "        print('Conexão falhou')\n",
    "    else:\n",
    "        print('Conexão ok')\n",
    "    return  cnxn\n",
    "\n",
    "#passa o dtaframe e o nome das colunas em que deve ser aplicado o algoritmo de anonimização\n",
    "def hashingData2 (dfOrigin, colName): #recebe o dataframe e a lista com nome de colunas que contém em seu título CPF, Nome ou RG\n",
    "    df=dfOrigin\n",
    "    for c in colName:\n",
    "        nomecoluna_hs = c +'_hs'\n",
    "        df[c] = df[c].astype(str)\n",
    "        #Apply hashing function to the column\n",
    "        df[nomecoluna_hs] = df[c].apply(lambda x: hs.sha256(x.encode()).hexdigest())\n",
    "        df.drop(c,axis=1,inplace=True)\n",
    "    return df\n",
    "\n",
    "def hashingData (dfOrigin, colName): #recebe o dataframe e a lista com nome de colunas que contém em seu título CPF, Nome ou RG\n",
    "    df=dfOrigin\n",
    "    arrayNovoValor = []\n",
    "    for c in colName:\n",
    "        nomecoluna_hs = c +'_hs'\n",
    "        df[c] = df[c].astype(str)\n",
    "        #Apply hashing function to the column\n",
    "        df[c].apply(lambda x: arrayNovoValor.append(hashing(x)))\n",
    "        df[nomecoluna_hs] = arrayNovoValor\n",
    "        df.drop(c,axis=1,inplace=True)\n",
    "    return df\n",
    "\n",
    "\n",
    "def hashing(valor):\n",
    "    if valor == None:\n",
    "        valorFinal = ''\n",
    "    else:\n",
    "        valorFinal = hs.sha256(valor.encode()).hexdigest()\n",
    "    return valorFinal\n"
   ]
  },
  {
   "cell_type": "code",
   "execution_count": 45,
   "id": "a7e95825",
   "metadata": {},
   "outputs": [],
   "source": [
    "#traz argumentos para acessar as informações\n",
    "f=open(\"entrada.csv\",\"r\")\n",
    "lines=f.readlines()\n",
    "argumento = []\n",
    "valor =[]\n",
    "for x in lines:\n",
    "    argumento.append(x.split(\";\")[0])\n",
    "    valor.append(x.split(\";\")[1].split(\"\\n\")[0])               \n",
    "f.close()   \n",
    "server = valor[0]\n",
    "serverport = valor[0] + ',' + valor[1]  #endereço vírgula porta\n",
    "port =valor[1]\n",
    "database = valor[2]\n",
    "username = valor[3]\n",
    "password = valor[4]\n",
    "dsn = valor[5]\n",
    "table_ = valor[6]"
   ]
  },
  {
   "cell_type": "code",
   "execution_count": 74,
   "id": "a0294657",
   "metadata": {},
   "outputs": [
    {
     "data": {
      "text/plain": [
       "113"
      ]
     },
     "execution_count": 74,
     "metadata": {},
     "output_type": "execute_result"
    }
   ],
   "source": [
    "conexao = conectar(valor)\n",
    "cursor = conexao.cursor()\n",
    "nomeColunas =[]\n",
    "for row in cursor.columns(table=table_[7:]):\n",
    "    nomeColunas.append(row.column_name)\n",
    "conexao.close()\n",
    "len(nomeColunas)"
   ]
  },
  {
   "cell_type": "code",
   "execution_count": 77,
   "id": "55e5f8a0",
   "metadata": {},
   "outputs": [],
   "source": [
    "#para adicionar uma nova coluna ao Select deve-se inserir o nome dela no arquivo txt\n",
    "col=open(\"colunas.txt\",'r')\n",
    "lines=col.readlines()\n",
    "colu = []\n",
    "for x in lines:\n",
    "    colu.append(x.split(\"'\")[1])\n",
    "col.close() \n",
    "colunasUsadas=colu"
   ]
  },
  {
   "cell_type": "code",
   "execution_count": 78,
   "id": "1db91e54",
   "metadata": {
    "scrolled": true
   },
   "outputs": [],
   "source": [
    "dfColunas = pd.DataFrame({'NomeColunaDisponível':nomeColunas}) #adiciona o nome de todas as colunas disponíveis em um df\n",
    "dfColunas['ColunasUteis']= dfColunas.apply(lambda x: x['NomeColunaDisponível'] in colunasUsadas, axis=1) #adiciona \"1\" se coluna será utilizada e \"0\" se não for"
   ]
  },
  {
   "cell_type": "code",
   "execution_count": null,
   "id": "d7fb8b74",
   "metadata": {},
   "outputs": [],
   "source": [
    "for x in dfColunas.loc[(dfColunas['ColunasUteis']==True)]['NomeColunaDisponível']:\n",
    "    print(x)"
   ]
  },
  {
   "cell_type": "code",
   "execution_count": 144,
   "id": "ebbd1109",
   "metadata": {},
   "outputs": [
    {
     "name": "stdout",
     "output_type": "stream",
     "text": [
      "Conexão ok\n",
      "Hora de Início da consulta: 2021-11-30 17:33:03.372507\n",
      "Hora de fim da consulta 2021-11-30 17:42:39.394562\n"
     ]
    }
   ],
   "source": [
    "#montagem da string sql que vai buscar apenas as colunas necessárias ao estudo\n",
    "stringSelect =''\n",
    "for x in dfColunas.loc[(dfColunas['ColunasUteis']==True)]['NomeColunaDisponível']:\n",
    "    stringSelect = stringSelect + str(x) +', '\n",
    "conexao = conectar(valor) #realiza coneção e imprime se obteve sucesso ou não\n",
    "sql = 'SELECT '+ stringSelect[0:-2] + ' FROM ' + table_ #stringSelect[0:-2] #pega string sem a ultima vírgula\n",
    "print('Hora de Início da consulta:', datetime.now())\n",
    "dfBase = pd.read_sql(sql,conexao) #realização da pesquisa na base\n",
    "conexao.close()\n",
    "print('Hora de fim da consulta',datetime.now())"
   ]
  },
  {
   "cell_type": "code",
   "execution_count": 166,
   "id": "2455ef2b",
   "metadata": {},
   "outputs": [],
   "source": [
    "#Teste\n",
    "#pesquisa = cursor.execute('SELECT '+ stringSelect[0:-2] + ' FROM RIC_DW.RIC_SBX_DETRAN_REQUERIMENTO').fetchone()"
   ]
  },
  {
   "cell_type": "code",
   "execution_count": 145,
   "id": "8108b942",
   "metadata": {},
   "outputs": [],
   "source": [
    "colunasAnonimizaveis = []\n",
    "for namecol in colunasUsadas:\n",
    "    if (namecol.find('CPF')!= -1 or \n",
    "    (namecol.find('NOME') != -1 and namecol.find('MUN') == -1 ) or\n",
    "    namecol.find('RG_')!=-1 ):\n",
    "        colunasAnonimizaveis.append(namecol)  \n",
    "#colunasAnonimizaveis     "
   ]
  },
  {
   "cell_type": "code",
   "execution_count": 1,
   "id": "13fe2e2e",
   "metadata": {},
   "outputs": [],
   "source": [
    "#dfBase.head()"
   ]
  },
  {
   "cell_type": "code",
   "execution_count": null,
   "id": "12c04314",
   "metadata": {},
   "outputs": [],
   "source": [
    "dfAnonimo = dfBase\n",
    "dfAnonimo = hashingData(dfAnonimo,colunasAnonimizaveis) #anonimiza dados\n",
    "dfAnonimo.head()"
   ]
  },
  {
   "cell_type": "code",
   "execution_count": null,
   "id": "84f5ed39",
   "metadata": {},
   "outputs": [],
   "source": [
    "#dfAnonimo.to_csv('anonimo.csv', sep=';', encoding='utf-8')\n",
    "dfBase.head()"
   ]
  },
  {
   "cell_type": "markdown",
   "id": "64c861ab",
   "metadata": {},
   "source": [
    "ANÁLISES"
   ]
  },
  {
   "cell_type": "code",
   "execution_count": null,
   "id": "75b78a48",
   "metadata": {},
   "outputs": [],
   "source": [
    "filtro= (dfAnonimo['CPF_CNPJ_PROPRIETARIO_hs']==dfAnonimo['CPF_CONDUTOR_hs'])\n",
    "dfAnonimo.loc[filtro].groupby('')    count()"
   ]
  }
 ],
 "metadata": {
  "kernelspec": {
   "display_name": "Python 3 (ipykernel)",
   "language": "python",
   "name": "python3"
  },
  "language_info": {
   "codemirror_mode": {
    "name": "ipython",
    "version": 3
   },
   "file_extension": ".py",
   "mimetype": "text/x-python",
   "name": "python",
   "nbconvert_exporter": "python",
   "pygments_lexer": "ipython3",
   "version": "3.9.7"
  }
 },
 "nbformat": 4,
 "nbformat_minor": 5
}
