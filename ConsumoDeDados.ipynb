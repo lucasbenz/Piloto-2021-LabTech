{
 "cells": [
  {
   "cell_type": "code",
   "execution_count": 27,
   "id": "9b0897d5",
   "metadata": {},
   "outputs": [],
   "source": [
    "import pyodbc\n",
    "import pandas as pd\n",
    "from datetime import datetime"
   ]
  },
  {
   "cell_type": "code",
   "execution_count": 8,
   "id": "2624a1af",
   "metadata": {},
   "outputs": [],
   "source": [
    "def conectar(config):\n",
    "    cnxn = pyodbc.connect('DSN='+ config[5], SERVER=config[0] + ',' + config[1],UID=config[3], PWD=config[4])\n",
    "    crsr = cnxn.cursor()\n",
    "    row  = crsr.execute(\"SELECT * FROM BIGSQL.RIC_DW.RIC_SBX_DETRAN_REQUERIMENTO\").fetchone()\n",
    "    #cnxn.close()\n",
    "    if row =='':\n",
    "        print('Conexão falhou')\n",
    "    else:\n",
    "        print('Conexão ok')\n",
    "        \n",
    "    return  cnxn"
   ]
  },
  {
   "cell_type": "code",
   "execution_count": 3,
   "id": "a7e95825",
   "metadata": {},
   "outputs": [],
   "source": [
    "f=open(\"entrada.csv\",\"r\")\n",
    "lines=f.readlines()\n",
    "argumento = []\n",
    "valor =[]\n",
    "for x in lines:\n",
    "    argumento.append(x.split(\";\")[0])\n",
    "    valor.append(x.split(\";\")[1].split(\"\\n\")[0])               \n",
    "f.close()   \n",
    "server = valor[0]\n",
    "serverport = valor[0] + ',' + valor[1]  #endereço vírgula porta\n",
    "port =valor[1]\n",
    "database = valor[2]\n",
    "username = valor[3]\n",
    "password = valor[4]\n",
    "dsn = valor[5]"
   ]
  },
  {
   "cell_type": "code",
   "execution_count": 9,
   "id": "3a80e57c",
   "metadata": {},
   "outputs": [
    {
     "name": "stdout",
     "output_type": "stream",
     "text": [
      "Conexão ok\n"
     ]
    }
   ],
   "source": [
    "conexao = conectar(valor) "
   ]
  },
  {
   "cell_type": "code",
   "execution_count": 75,
   "id": "a0294657",
   "metadata": {},
   "outputs": [],
   "source": [
    "cursor = conexao.cursor()\n",
    "nomeColunas =[]\n",
    "for row in cursor.columns(table='RIC_SBX_DETRAN_REQUERIMENTO'):\n",
    "    nomeColunas.append(row.column_name)\n",
    "conexao.close()"
   ]
  },
  {
   "cell_type": "code",
   "execution_count": 180,
   "id": "55e5f8a0",
   "metadata": {},
   "outputs": [],
   "source": [
    "col=open(\"colunas.txt\",'r')\n",
    "lines=col.readlines()\n",
    "colu = []\n",
    "for x in lines:\n",
    "    colu.append(x.split(\"'\")[1])\n",
    "col.close() \n",
    "colunasUsadas=colu"
   ]
  },
  {
   "cell_type": "code",
   "execution_count": 181,
   "id": "1db91e54",
   "metadata": {
    "scrolled": true
   },
   "outputs": [],
   "source": [
    "dfColunas = pd.DataFrame({'NomeColunaDisponível':nomeColunas})\n",
    "dfColunas['ColunasUteis']= dfColunas.apply(lambda x: x['NomeColunaDisponível'] in colunasUsadas, axis=1)"
   ]
  },
  {
   "cell_type": "code",
   "execution_count": 167,
   "id": "1be5c9cd",
   "metadata": {
    "scrolled": true
   },
   "outputs": [],
   "source": [
    "stringSelect =''\n",
    "for x in dfColunas.loc[(dfColunas['ColunasUteis']==True)]['NomeColunaDisponível']:\n",
    "    stringSelect = stringSelect + str(x) +', '\n",
    "#stringSelect[0:-2] #pega string sem a ultima vírgula"
   ]
  },
  {
   "cell_type": "code",
   "execution_count": 166,
   "id": "2455ef2b",
   "metadata": {},
   "outputs": [],
   "source": [
    "#Teste\n",
    "#pesquisa = cursor.execute('SELECT '+ stringSelect[0:-2] + ' FROM RIC_DW.RIC_SBX_DETRAN_REQUERIMENTO').fetchone()"
   ]
  },
  {
   "cell_type": "code",
   "execution_count": null,
   "id": "ebbd1109",
   "metadata": {},
   "outputs": [],
   "source": [
    "sql = 'SELECT '+ stringSelect[0:-2] + ' FROM RIC_DW.RIC_SBX_DETRAN_REQUERIMENTO'\n",
    "print(datetime.now()) #10:43\n",
    "dfBase = pd.read_sql(sql,conexao)"
   ]
  },
  {
   "cell_type": "code",
   "execution_count": 168,
   "id": "5c8135c8",
   "metadata": {},
   "outputs": [],
   "source": [
    "#dfBase.head()\n"
   ]
  },
  {
   "cell_type": "code",
   "execution_count": 164,
   "id": "da6f4a50",
   "metadata": {},
   "outputs": [
    {
     "data": {
      "text/plain": [
       "datetime.datetime(2021, 11, 24, 16, 55, 43, 307699)"
      ]
     },
     "execution_count": 164,
     "metadata": {},
     "output_type": "execute_result"
    }
   ],
   "source": [
    "print(datetime.now())"
   ]
  },
  {
   "cell_type": "code",
   "execution_count": 70,
   "id": "8108b942",
   "metadata": {},
   "outputs": [],
   "source": []
  }
 ],
 "metadata": {
  "kernelspec": {
   "display_name": "Python 3 (ipykernel)",
   "language": "python",
   "name": "python3"
  },
  "language_info": {
   "codemirror_mode": {
    "name": "ipython",
    "version": 3
   },
   "file_extension": ".py",
   "mimetype": "text/x-python",
   "name": "python",
   "nbconvert_exporter": "python",
   "pygments_lexer": "ipython3",
   "version": "3.9.7"
  }
 },
 "nbformat": 4,
 "nbformat_minor": 5
}
