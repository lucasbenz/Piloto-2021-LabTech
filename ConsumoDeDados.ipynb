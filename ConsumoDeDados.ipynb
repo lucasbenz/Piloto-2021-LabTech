{
 "cells": [
  {
   "cell_type": "code",
   "execution_count": 1,
   "id": "9b0897d5",
   "metadata": {},
   "outputs": [],
   "source": [
    "import pyodbc\n",
    "import pandas as pd\n",
    "from datetime import datetime\n",
    "import hashlib as hs"
   ]
  },
  {
   "cell_type": "code",
   "execution_count": 148,
   "id": "2624a1af",
   "metadata": {},
   "outputs": [],
   "source": [
    "def conectar(config):\n",
    "    cnxn = pyodbc.connect('DSN='+ config[5], SERVER=config[0] + ',' + config[1],UID=config[3], PWD=config[4])\n",
    "    crsr = cnxn.cursor()\n",
    "    row  = crsr.execute(\"SELECT * FROM \"+config[6]).fetchone()\n",
    "    #cnxn.close()\n",
    "    if row =='':\n",
    "        print('Conexão falhou')\n",
    "    else:\n",
    "        print('Conexão ok')\n",
    "    return  cnxn\n",
    "\n",
    "#passa o dtaframe e o nome das colunas em que deve ser aplicado o algoritmo de anonimização\n",
    "def hashingData2 (dfOrigin, colName): #recebe o dataframe e a lista com nome de colunas que contém em seu título CPF, Nome ou RG\n",
    "    df=dfOrigin\n",
    "    for c in colName:\n",
    "        nomecoluna_hs = c +'_hs'\n",
    "        df[c] = df[c].astype(str)\n",
    "        #Apply hashing function to the column\n",
    "        df[nomecoluna_hs] = df[c].apply(lambda x: hs.sha256(x.encode()).hexdigest())\n",
    "        df.drop(c,axis=1,inplace=True)\n",
    "    return df\n",
    "\n",
    "def hashingData (dfOrigin, colName): #recebe o dataframe e a lista com nome de colunas que contém em seu título CPF, Nome ou RG\n",
    "    df=dfOrigin\n",
    "    arrayNovoValor = []\n",
    "    for c in colName:\n",
    "        nomecoluna_hs = c +'_hs'\n",
    "        df[c] = df[c].astype(str)\n",
    "        #Apply hashing function to the column\n",
    "        df[c].apply(lambda x: arrayNovoValor.append(hashing(x)))\n",
    "        df[nomecoluna_hs] = arrayNovoValor\n",
    "        df.drop(c,axis=1,inplace=True)\n",
    "    return df\n",
    "\n",
    "\n",
    "def hashing(valor):\n",
    "    if valor == None:\n",
    "        valorFinal = ''\n",
    "    else:\n",
    "        valorFinal = hs.sha256(valor.encode()).hexdigest()\n",
    "    return valorFinal\n"
   ]
  },
  {
   "cell_type": "code",
   "execution_count": 45,
   "id": "a7e95825",
   "metadata": {},
   "outputs": [],
   "source": [
    "#traz argumentos para acessar as informações\n",
    "f=open(\"entrada.csv\",\"r\")\n",
    "lines=f.readlines()\n",
    "argumento = []\n",
    "valor =[]\n",
    "for x in lines:\n",
    "    argumento.append(x.split(\";\")[0])\n",
    "    valor.append(x.split(\";\")[1].split(\"\\n\")[0])               \n",
    "f.close()   \n",
    "server = valor[0]\n",
    "serverport = valor[0] + ',' + valor[1]  #endereço vírgula porta\n",
    "port =valor[1]\n",
    "database = valor[2]\n",
    "username = valor[3]\n",
    "password = valor[4]\n",
    "dsn = valor[5]\n",
    "table_ = valor[6]"
   ]
  },
  {
   "cell_type": "code",
   "execution_count": 74,
   "id": "a0294657",
   "metadata": {},
   "outputs": [
    {
     "data": {
      "text/plain": [
       "113"
      ]
     },
     "execution_count": 74,
     "metadata": {},
     "output_type": "execute_result"
    }
   ],
   "source": [
    "conexao = conectar(valor)\n",
    "cursor = conexao.cursor()\n",
    "nomeColunas =[]\n",
    "for row in cursor.columns(table=table_[7:]):\n",
    "    nomeColunas.append(row.column_name)\n",
    "conexao.close()\n",
    "len(nomeColunas)"
   ]
  },
  {
   "cell_type": "code",
   "execution_count": 77,
   "id": "55e5f8a0",
   "metadata": {},
   "outputs": [],
   "source": [
    "#para adicionar uma nova coluna ao Select deve-se inserir o nome dela no arquivo txt\n",
    "col=open(\"colunas.txt\",'r')\n",
    "lines=col.readlines()\n",
    "colu = []\n",
    "for x in lines:\n",
    "    colu.append(x.split(\"'\")[1])\n",
    "col.close() \n",
    "colunasUsadas=colu"
   ]
  },
  {
   "cell_type": "code",
   "execution_count": 78,
   "id": "1db91e54",
   "metadata": {
    "scrolled": true
   },
   "outputs": [],
   "source": [
    "dfColunas = pd.DataFrame({'NomeColunaDisponível':nomeColunas}) #adiciona o nome de todas as colunas disponíveis em um df\n",
    "dfColunas['ColunasUteis']= dfColunas.apply(lambda x: x['NomeColunaDisponível'] in colunasUsadas, axis=1) #adiciona \"1\" se coluna será utilizada e \"0\" se não for"
   ]
  },
  {
   "cell_type": "code",
   "execution_count": null,
   "id": "d7fb8b74",
   "metadata": {},
   "outputs": [],
   "source": [
    "for x in dfColunas.loc[(dfColunas['ColunasUteis']==True)]['NomeColunaDisponível']:\n",
    "    print(x)"
   ]
  },
  {
   "cell_type": "code",
   "execution_count": 144,
   "id": "ebbd1109",
   "metadata": {},
   "outputs": [
    {
     "name": "stdout",
     "output_type": "stream",
     "text": [
      "Conexão ok\n",
      "Hora de Início da consulta: 2021-11-30 17:33:03.372507\n",
      "Hora de fim da consulta 2021-11-30 17:42:39.394562\n"
     ]
    }
   ],
   "source": [
    "#montagem da string sql que vai buscar apenas as colunas necessárias ao estudo\n",
    "stringSelect =''\n",
    "for x in dfColunas.loc[(dfColunas['ColunasUteis']==True)]['NomeColunaDisponível']:\n",
    "    stringSelect = stringSelect + str(x) +', '\n",
    "conexao = conectar(valor) #realiza coneção e imprime se obteve sucesso ou não\n",
    "sql = 'SELECT '+ stringSelect[0:-2] + ' FROM ' + table_ #stringSelect[0:-2] #pega string sem a ultima vírgula\n",
    "print('Hora de Início da consulta:', datetime.now())\n",
    "dfBase = pd.read_sql(sql,conexao) #realização da pesquisa na base\n",
    "conexao.close()\n",
    "print('Hora de fim da consulta',datetime.now())"
   ]
  },
  {
   "cell_type": "code",
   "execution_count": 166,
   "id": "2455ef2b",
   "metadata": {},
   "outputs": [],
   "source": [
    "#Teste\n",
    "#pesquisa = cursor.execute('SELECT '+ stringSelect[0:-2] + ' FROM RIC_DW.RIC_SBX_DETRAN_REQUERIMENTO').fetchone()"
   ]
  },
  {
   "cell_type": "code",
   "execution_count": 145,
   "id": "8108b942",
   "metadata": {},
   "outputs": [],
   "source": [
    "colunasAnonimizaveis = []\n",
    "for namecol in colunasUsadas:\n",
    "    if (namecol.find('CPF')!= -1 or \n",
    "    (namecol.find('NOME') != -1 and namecol.find('MUN') == -1 ) or\n",
    "    namecol.find('RG_')!=-1 ):\n",
    "        colunasAnonimizaveis.append(namecol)  \n",
    "#colunasAnonimizaveis     "
   ]
  },
  {
   "cell_type": "code",
   "execution_count": 150,
   "id": "13fe2e2e",
   "metadata": {},
   "outputs": [
    {
     "data": {
      "text/html": [
       "<div>\n",
       "<style scoped>\n",
       "    .dataframe tbody tr th:only-of-type {\n",
       "        vertical-align: middle;\n",
       "    }\n",
       "\n",
       "    .dataframe tbody tr th {\n",
       "        vertical-align: top;\n",
       "    }\n",
       "\n",
       "    .dataframe thead th {\n",
       "        text-align: right;\n",
       "    }\n",
       "</style>\n",
       "<table border=\"1\" class=\"dataframe\">\n",
       "  <thead>\n",
       "    <tr style=\"text-align: right;\">\n",
       "      <th></th>\n",
       "      <th>NRO_REQ</th>\n",
       "      <th>OAT</th>\n",
       "      <th>NSU</th>\n",
       "      <th>COD_SITUACAO</th>\n",
       "      <th>DESCRICAO_SITUACAO</th>\n",
       "      <th>COD_SERV</th>\n",
       "      <th>DESCRICAO_SERV</th>\n",
       "      <th>DESCR_RECEB</th>\n",
       "      <th>DATA_POSTAGEM</th>\n",
       "      <th>COD_ESTADO</th>\n",
       "      <th>...</th>\n",
       "      <th>RG_CONDUTOR</th>\n",
       "      <th>CONDUTOR_IDADE</th>\n",
       "      <th>CONDUTOR_SEXO</th>\n",
       "      <th>CONDUTOR_DATA_NASCIMENTO</th>\n",
       "      <th>CONDUTOR_VALIDADE_CNH</th>\n",
       "      <th>NOME_MUNIC_CONDUTOR</th>\n",
       "      <th>REQUERENTE_IDADE</th>\n",
       "      <th>REQUERENTE_SEXO</th>\n",
       "      <th>REQUERENTE_DATA_NASCIMENTO</th>\n",
       "      <th>NOME_REQUERENTE_hs</th>\n",
       "    </tr>\n",
       "  </thead>\n",
       "  <tbody>\n",
       "    <tr>\n",
       "      <th>0</th>\n",
       "      <td>202107888555</td>\n",
       "      <td>286470.0</td>\n",
       "      <td>E019706665</td>\n",
       "      <td>70</td>\n",
       "      <td>Em execução</td>\n",
       "      <td>6</td>\n",
       "      <td>Apresentação de Condutor</td>\n",
       "      <td>ECT</td>\n",
       "      <td>2021-07-07</td>\n",
       "      <td>2</td>\n",
       "      <td>...</td>\n",
       "      <td></td>\n",
       "      <td>NaN</td>\n",
       "      <td>Não Informado</td>\n",
       "      <td>None</td>\n",
       "      <td>None</td>\n",
       "      <td>None</td>\n",
       "      <td>NaN</td>\n",
       "      <td>Não Informado</td>\n",
       "      <td>None</td>\n",
       "      <td>33006c87e302ef434d97f78fa7cdf3aafc8311c6784fcd...</td>\n",
       "    </tr>\n",
       "    <tr>\n",
       "      <th>1</th>\n",
       "      <td>202009328962</td>\n",
       "      <td>288010.0</td>\n",
       "      <td>E019481851</td>\n",
       "      <td>80</td>\n",
       "      <td>Executado</td>\n",
       "      <td>6</td>\n",
       "      <td>Apresentação de Condutor</td>\n",
       "      <td>ECT</td>\n",
       "      <td>2020-05-29</td>\n",
       "      <td>9</td>\n",
       "      <td>...</td>\n",
       "      <td></td>\n",
       "      <td>NaN</td>\n",
       "      <td>Não Informado</td>\n",
       "      <td>None</td>\n",
       "      <td>None</td>\n",
       "      <td>None</td>\n",
       "      <td>NaN</td>\n",
       "      <td>Não Informado</td>\n",
       "      <td>None</td>\n",
       "      <td>b2cc09045ecbcbb002fed3e424448953de92dce9c9cf06...</td>\n",
       "    </tr>\n",
       "    <tr>\n",
       "      <th>2</th>\n",
       "      <td>202105046743</td>\n",
       "      <td>285610.0</td>\n",
       "      <td>E019997740</td>\n",
       "      <td>70</td>\n",
       "      <td>Em execução</td>\n",
       "      <td>6</td>\n",
       "      <td>Apresentação de Condutor</td>\n",
       "      <td>ECT</td>\n",
       "      <td>2021-05-04</td>\n",
       "      <td>2</td>\n",
       "      <td>...</td>\n",
       "      <td></td>\n",
       "      <td>NaN</td>\n",
       "      <td>Não Informado</td>\n",
       "      <td>None</td>\n",
       "      <td>None</td>\n",
       "      <td>None</td>\n",
       "      <td>NaN</td>\n",
       "      <td>Não Informado</td>\n",
       "      <td>None</td>\n",
       "      <td>e96ccf773e8067a62f75ecd48c7f762ab2f60b289d9603...</td>\n",
       "    </tr>\n",
       "    <tr>\n",
       "      <th>3</th>\n",
       "      <td>202112608379</td>\n",
       "      <td>288010.0</td>\n",
       "      <td>E020195017</td>\n",
       "      <td>20</td>\n",
       "      <td>Em conferência</td>\n",
       "      <td>6</td>\n",
       "      <td>Apresentação de Condutor</td>\n",
       "      <td>Protocolo Original</td>\n",
       "      <td>None</td>\n",
       "      <td>1</td>\n",
       "      <td>...</td>\n",
       "      <td></td>\n",
       "      <td>NaN</td>\n",
       "      <td>Não Informado</td>\n",
       "      <td>None</td>\n",
       "      <td>None</td>\n",
       "      <td>None</td>\n",
       "      <td>NaN</td>\n",
       "      <td>Não Informado</td>\n",
       "      <td>None</td>\n",
       "      <td>791d57579051ffb56bde0e9949e401ae6abf7e45a46c21...</td>\n",
       "    </tr>\n",
       "    <tr>\n",
       "      <th>4</th>\n",
       "      <td>202104922736</td>\n",
       "      <td>287850.0</td>\n",
       "      <td>TE00017125</td>\n",
       "      <td>70</td>\n",
       "      <td>Em execução</td>\n",
       "      <td>6</td>\n",
       "      <td>Apresentação de Condutor</td>\n",
       "      <td>ECT</td>\n",
       "      <td>2021-04-29</td>\n",
       "      <td>2</td>\n",
       "      <td>...</td>\n",
       "      <td></td>\n",
       "      <td>NaN</td>\n",
       "      <td>Não Informado</td>\n",
       "      <td>None</td>\n",
       "      <td>None</td>\n",
       "      <td>None</td>\n",
       "      <td>NaN</td>\n",
       "      <td>Não Informado</td>\n",
       "      <td>None</td>\n",
       "      <td>6827ba4355dd626e70d5bb04dfb556c1df64a572d44dd3...</td>\n",
       "    </tr>\n",
       "  </tbody>\n",
       "</table>\n",
       "<p>5 rows × 58 columns</p>\n",
       "</div>"
      ],
      "text/plain": [
       "        NRO_REQ       OAT         NSU  COD_SITUACAO DESCRICAO_SITUACAO  \\\n",
       "0  202107888555  286470.0  E019706665            70        Em execução   \n",
       "1  202009328962  288010.0  E019481851            80          Executado   \n",
       "2  202105046743  285610.0  E019997740            70        Em execução   \n",
       "3  202112608379  288010.0  E020195017            20     Em conferência   \n",
       "4  202104922736  287850.0  TE00017125            70        Em execução   \n",
       "\n",
       "   COD_SERV            DESCRICAO_SERV         DESCR_RECEB DATA_POSTAGEM  \\\n",
       "0         6  Apresentação de Condutor                 ECT    2021-07-07   \n",
       "1         6  Apresentação de Condutor                 ECT    2020-05-29   \n",
       "2         6  Apresentação de Condutor                 ECT    2021-05-04   \n",
       "3         6  Apresentação de Condutor  Protocolo Original          None   \n",
       "4         6  Apresentação de Condutor                 ECT    2021-04-29   \n",
       "\n",
       "   COD_ESTADO  ... RG_CONDUTOR CONDUTOR_IDADE  CONDUTOR_SEXO  \\\n",
       "0           2  ...                        NaN  Não Informado   \n",
       "1           9  ...                        NaN  Não Informado   \n",
       "2           2  ...                        NaN  Não Informado   \n",
       "3           1  ...                        NaN  Não Informado   \n",
       "4           2  ...                        NaN  Não Informado   \n",
       "\n",
       "   CONDUTOR_DATA_NASCIMENTO CONDUTOR_VALIDADE_CNH  NOME_MUNIC_CONDUTOR  \\\n",
       "0                      None                  None                 None   \n",
       "1                      None                  None                 None   \n",
       "2                      None                  None                 None   \n",
       "3                      None                  None                 None   \n",
       "4                      None                  None                 None   \n",
       "\n",
       "   REQUERENTE_IDADE  REQUERENTE_SEXO REQUERENTE_DATA_NASCIMENTO  \\\n",
       "0               NaN    Não Informado                       None   \n",
       "1               NaN    Não Informado                       None   \n",
       "2               NaN    Não Informado                       None   \n",
       "3               NaN    Não Informado                       None   \n",
       "4               NaN    Não Informado                       None   \n",
       "\n",
       "                                  NOME_REQUERENTE_hs  \n",
       "0  33006c87e302ef434d97f78fa7cdf3aafc8311c6784fcd...  \n",
       "1  b2cc09045ecbcbb002fed3e424448953de92dce9c9cf06...  \n",
       "2  e96ccf773e8067a62f75ecd48c7f762ab2f60b289d9603...  \n",
       "3  791d57579051ffb56bde0e9949e401ae6abf7e45a46c21...  \n",
       "4  6827ba4355dd626e70d5bb04dfb556c1df64a572d44dd3...  \n",
       "\n",
       "[5 rows x 58 columns]"
      ]
     },
     "execution_count": 150,
     "metadata": {},
     "output_type": "execute_result"
    }
   ],
   "source": [
    "dfBase.head()"
   ]
  },
  {
   "cell_type": "code",
   "execution_count": 149,
   "id": "12c04314",
   "metadata": {},
   "outputs": [
    {
     "ename": "ValueError",
     "evalue": "Length of values (3785126) does not match length of index (1892563)",
     "output_type": "error",
     "traceback": [
      "\u001b[1;31m---------------------------------------------------------------------------\u001b[0m",
      "\u001b[1;31mValueError\u001b[0m                                Traceback (most recent call last)",
      "\u001b[1;32m~\\AppData\\Local\\Temp/ipykernel_18252/3345594677.py\u001b[0m in \u001b[0;36m<module>\u001b[1;34m\u001b[0m\n\u001b[0;32m      1\u001b[0m \u001b[0mdfAnonimo\u001b[0m \u001b[1;33m=\u001b[0m \u001b[0mdfBase\u001b[0m\u001b[1;33m\u001b[0m\u001b[1;33m\u001b[0m\u001b[0m\n\u001b[1;32m----> 2\u001b[1;33m \u001b[0mdfAnonimo\u001b[0m \u001b[1;33m=\u001b[0m \u001b[0mhashingData\u001b[0m\u001b[1;33m(\u001b[0m\u001b[0mdfAnonimo\u001b[0m\u001b[1;33m,\u001b[0m\u001b[0mcolunasAnonimizaveis\u001b[0m\u001b[1;33m)\u001b[0m \u001b[1;31m#anonimiza dados\u001b[0m\u001b[1;33m\u001b[0m\u001b[1;33m\u001b[0m\u001b[0m\n\u001b[0m\u001b[0;32m      3\u001b[0m \u001b[0mdfAnonimo\u001b[0m\u001b[1;33m.\u001b[0m\u001b[0mhead\u001b[0m\u001b[1;33m(\u001b[0m\u001b[1;33m)\u001b[0m\u001b[1;33m\u001b[0m\u001b[1;33m\u001b[0m\u001b[0m\n",
      "\u001b[1;32m~\\AppData\\Local\\Temp/ipykernel_18252/46863267.py\u001b[0m in \u001b[0;36mhashingData\u001b[1;34m(dfOrigin, colName)\u001b[0m\n\u001b[0;32m     29\u001b[0m         \u001b[1;31m#Apply hashing function to the column\u001b[0m\u001b[1;33m\u001b[0m\u001b[1;33m\u001b[0m\u001b[0m\n\u001b[0;32m     30\u001b[0m         \u001b[0mdf\u001b[0m\u001b[1;33m[\u001b[0m\u001b[0mc\u001b[0m\u001b[1;33m]\u001b[0m\u001b[1;33m.\u001b[0m\u001b[0mapply\u001b[0m\u001b[1;33m(\u001b[0m\u001b[1;32mlambda\u001b[0m \u001b[0mx\u001b[0m\u001b[1;33m:\u001b[0m \u001b[0marrayNovoValor\u001b[0m\u001b[1;33m.\u001b[0m\u001b[0mappend\u001b[0m\u001b[1;33m(\u001b[0m\u001b[0mhashing\u001b[0m\u001b[1;33m(\u001b[0m\u001b[0mx\u001b[0m\u001b[1;33m)\u001b[0m\u001b[1;33m)\u001b[0m\u001b[1;33m)\u001b[0m\u001b[1;33m\u001b[0m\u001b[1;33m\u001b[0m\u001b[0m\n\u001b[1;32m---> 31\u001b[1;33m         \u001b[0mdf\u001b[0m\u001b[1;33m[\u001b[0m\u001b[0mnomecoluna_hs\u001b[0m\u001b[1;33m]\u001b[0m \u001b[1;33m=\u001b[0m \u001b[0marrayNovoValor\u001b[0m\u001b[1;33m\u001b[0m\u001b[1;33m\u001b[0m\u001b[0m\n\u001b[0m\u001b[0;32m     32\u001b[0m         \u001b[0mdf\u001b[0m\u001b[1;33m.\u001b[0m\u001b[0mdrop\u001b[0m\u001b[1;33m(\u001b[0m\u001b[0mc\u001b[0m\u001b[1;33m,\u001b[0m\u001b[0maxis\u001b[0m\u001b[1;33m=\u001b[0m\u001b[1;36m1\u001b[0m\u001b[1;33m,\u001b[0m\u001b[0minplace\u001b[0m\u001b[1;33m=\u001b[0m\u001b[1;32mTrue\u001b[0m\u001b[1;33m)\u001b[0m\u001b[1;33m\u001b[0m\u001b[1;33m\u001b[0m\u001b[0m\n\u001b[0;32m     33\u001b[0m     \u001b[1;32mreturn\u001b[0m \u001b[0mdf\u001b[0m\u001b[1;33m\u001b[0m\u001b[1;33m\u001b[0m\u001b[0m\n",
      "\u001b[1;32mC:\\ProgramData\\Anaconda3\\lib\\site-packages\\pandas\\core\\frame.py\u001b[0m in \u001b[0;36m__setitem__\u001b[1;34m(self, key, value)\u001b[0m\n\u001b[0;32m   3610\u001b[0m         \u001b[1;32melse\u001b[0m\u001b[1;33m:\u001b[0m\u001b[1;33m\u001b[0m\u001b[1;33m\u001b[0m\u001b[0m\n\u001b[0;32m   3611\u001b[0m             \u001b[1;31m# set column\u001b[0m\u001b[1;33m\u001b[0m\u001b[1;33m\u001b[0m\u001b[0m\n\u001b[1;32m-> 3612\u001b[1;33m             \u001b[0mself\u001b[0m\u001b[1;33m.\u001b[0m\u001b[0m_set_item\u001b[0m\u001b[1;33m(\u001b[0m\u001b[0mkey\u001b[0m\u001b[1;33m,\u001b[0m \u001b[0mvalue\u001b[0m\u001b[1;33m)\u001b[0m\u001b[1;33m\u001b[0m\u001b[1;33m\u001b[0m\u001b[0m\n\u001b[0m\u001b[0;32m   3613\u001b[0m \u001b[1;33m\u001b[0m\u001b[0m\n\u001b[0;32m   3614\u001b[0m     \u001b[1;32mdef\u001b[0m \u001b[0m_setitem_slice\u001b[0m\u001b[1;33m(\u001b[0m\u001b[0mself\u001b[0m\u001b[1;33m,\u001b[0m \u001b[0mkey\u001b[0m\u001b[1;33m:\u001b[0m \u001b[0mslice\u001b[0m\u001b[1;33m,\u001b[0m \u001b[0mvalue\u001b[0m\u001b[1;33m)\u001b[0m\u001b[1;33m:\u001b[0m\u001b[1;33m\u001b[0m\u001b[1;33m\u001b[0m\u001b[0m\n",
      "\u001b[1;32mC:\\ProgramData\\Anaconda3\\lib\\site-packages\\pandas\\core\\frame.py\u001b[0m in \u001b[0;36m_set_item\u001b[1;34m(self, key, value)\u001b[0m\n\u001b[0;32m   3782\u001b[0m         \u001b[0mensure\u001b[0m \u001b[0mhomogeneity\u001b[0m\u001b[1;33m.\u001b[0m\u001b[1;33m\u001b[0m\u001b[1;33m\u001b[0m\u001b[0m\n\u001b[0;32m   3783\u001b[0m         \"\"\"\n\u001b[1;32m-> 3784\u001b[1;33m         \u001b[0mvalue\u001b[0m \u001b[1;33m=\u001b[0m \u001b[0mself\u001b[0m\u001b[1;33m.\u001b[0m\u001b[0m_sanitize_column\u001b[0m\u001b[1;33m(\u001b[0m\u001b[0mvalue\u001b[0m\u001b[1;33m)\u001b[0m\u001b[1;33m\u001b[0m\u001b[1;33m\u001b[0m\u001b[0m\n\u001b[0m\u001b[0;32m   3785\u001b[0m \u001b[1;33m\u001b[0m\u001b[0m\n\u001b[0;32m   3786\u001b[0m         if (\n",
      "\u001b[1;32mC:\\ProgramData\\Anaconda3\\lib\\site-packages\\pandas\\core\\frame.py\u001b[0m in \u001b[0;36m_sanitize_column\u001b[1;34m(self, value)\u001b[0m\n\u001b[0;32m   4507\u001b[0m \u001b[1;33m\u001b[0m\u001b[0m\n\u001b[0;32m   4508\u001b[0m         \u001b[1;32mif\u001b[0m \u001b[0mis_list_like\u001b[0m\u001b[1;33m(\u001b[0m\u001b[0mvalue\u001b[0m\u001b[1;33m)\u001b[0m\u001b[1;33m:\u001b[0m\u001b[1;33m\u001b[0m\u001b[1;33m\u001b[0m\u001b[0m\n\u001b[1;32m-> 4509\u001b[1;33m             \u001b[0mcom\u001b[0m\u001b[1;33m.\u001b[0m\u001b[0mrequire_length_match\u001b[0m\u001b[1;33m(\u001b[0m\u001b[0mvalue\u001b[0m\u001b[1;33m,\u001b[0m \u001b[0mself\u001b[0m\u001b[1;33m.\u001b[0m\u001b[0mindex\u001b[0m\u001b[1;33m)\u001b[0m\u001b[1;33m\u001b[0m\u001b[1;33m\u001b[0m\u001b[0m\n\u001b[0m\u001b[0;32m   4510\u001b[0m         \u001b[1;32mreturn\u001b[0m \u001b[0msanitize_array\u001b[0m\u001b[1;33m(\u001b[0m\u001b[0mvalue\u001b[0m\u001b[1;33m,\u001b[0m \u001b[0mself\u001b[0m\u001b[1;33m.\u001b[0m\u001b[0mindex\u001b[0m\u001b[1;33m,\u001b[0m \u001b[0mcopy\u001b[0m\u001b[1;33m=\u001b[0m\u001b[1;32mTrue\u001b[0m\u001b[1;33m,\u001b[0m \u001b[0mallow_2d\u001b[0m\u001b[1;33m=\u001b[0m\u001b[1;32mTrue\u001b[0m\u001b[1;33m)\u001b[0m\u001b[1;33m\u001b[0m\u001b[1;33m\u001b[0m\u001b[0m\n\u001b[0;32m   4511\u001b[0m \u001b[1;33m\u001b[0m\u001b[0m\n",
      "\u001b[1;32mC:\\ProgramData\\Anaconda3\\lib\\site-packages\\pandas\\core\\common.py\u001b[0m in \u001b[0;36mrequire_length_match\u001b[1;34m(data, index)\u001b[0m\n\u001b[0;32m    529\u001b[0m     \"\"\"\n\u001b[0;32m    530\u001b[0m     \u001b[1;32mif\u001b[0m \u001b[0mlen\u001b[0m\u001b[1;33m(\u001b[0m\u001b[0mdata\u001b[0m\u001b[1;33m)\u001b[0m \u001b[1;33m!=\u001b[0m \u001b[0mlen\u001b[0m\u001b[1;33m(\u001b[0m\u001b[0mindex\u001b[0m\u001b[1;33m)\u001b[0m\u001b[1;33m:\u001b[0m\u001b[1;33m\u001b[0m\u001b[1;33m\u001b[0m\u001b[0m\n\u001b[1;32m--> 531\u001b[1;33m         raise ValueError(\n\u001b[0m\u001b[0;32m    532\u001b[0m             \u001b[1;34m\"Length of values \"\u001b[0m\u001b[1;33m\u001b[0m\u001b[1;33m\u001b[0m\u001b[0m\n\u001b[0;32m    533\u001b[0m             \u001b[1;34mf\"({len(data)}) \"\u001b[0m\u001b[1;33m\u001b[0m\u001b[1;33m\u001b[0m\u001b[0m\n",
      "\u001b[1;31mValueError\u001b[0m: Length of values (3785126) does not match length of index (1892563)"
     ]
    }
   ],
   "source": [
    "dfAnonimo = dfBase\n",
    "dfAnonimo = hashingData(dfAnonimo,colunasAnonimizaveis) #anonimiza dados\n",
    "dfAnonimo.head()"
   ]
  },
  {
   "cell_type": "code",
   "execution_count": null,
   "id": "84f5ed39",
   "metadata": {},
   "outputs": [],
   "source": [
    "#dfAnonimo.to_csv('anonimo.csv', sep=';', encoding='utf-8')\n",
    "dfBase.head()"
   ]
  },
  {
   "cell_type": "markdown",
   "id": "64c861ab",
   "metadata": {},
   "source": [
    "ANÁLISES"
   ]
  },
  {
   "cell_type": "code",
   "execution_count": null,
   "id": "75b78a48",
   "metadata": {},
   "outputs": [],
   "source": [
    "filtro= (dfAnonimo['CPF_CNPJ_PROPRIETARIO_hs']==dfAnonimo['CPF_CONDUTOR_hs'])\n",
    "dfAnonimo.loc[filtro].groupby('')    count()"
   ]
  }
 ],
 "metadata": {
  "kernelspec": {
   "display_name": "Python 3 (ipykernel)",
   "language": "python",
   "name": "python3"
  },
  "language_info": {
   "codemirror_mode": {
    "name": "ipython",
    "version": 3
   },
   "file_extension": ".py",
   "mimetype": "text/x-python",
   "name": "python",
   "nbconvert_exporter": "python",
   "pygments_lexer": "ipython3",
   "version": "3.9.7"
  }
 },
 "nbformat": 4,
 "nbformat_minor": 5
}
