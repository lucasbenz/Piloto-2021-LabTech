{
 "cells": [
  {
   "cell_type": "code",
   "execution_count": 2,
   "id": "ec3539d4",
   "metadata": {},
   "outputs": [],
   "source": [
    "import pyodbc\n",
    "import ibm_db\n",
    "import ibm_db_dbi"
   ]
  },
  {
   "cell_type": "code",
   "execution_count": 4,
   "id": "9eef89b4",
   "metadata": {},
   "outputs": [
    {
     "data": {
      "text/plain": [
       "{'Excel Files': 'Microsoft Excel Driver (*.xls, *.xlsx, *.xlsm, *.xlsb)',\n",
       " 'MS Access Database': 'Microsoft Access Driver (*.mdb, *.accdb)',\n",
       " 'BIGSQL': 'IBM DB2 ODBC DRIVER - DB2COPY1'}"
      ]
     },
     "execution_count": 4,
     "metadata": {},
     "output_type": "execute_result"
    }
   ],
   "source": [
    "pyodbc.dataSources()"
   ]
  },
  {
   "cell_type": "code",
   "execution_count": 9,
   "id": "1b976a40",
   "metadata": {},
   "outputs": [],
   "source": [
    "f=open(\"entrada.csv\",\"r\")\n",
    "lines=f.readlines()\n",
    "argumento = []\n",
    "valor =[]\n",
    "for x in lines:\n",
    "    argumento.append(x.split(\";\")[0])\n",
    "    valor.append(x.split(\";\")[1].split(\"\\n\")[0])               \n",
    "f.close()   \n",
    "server = valor[0]\n",
    "serverport = valor[0] + ',' + valor[1]  #endereço vírgula porta\n",
    "port =valor[1]\n",
    "database = valor[2]\n",
    "username = valor[3]\n",
    "password = valor[4]\n",
    "dsn = valor[5]"
   ]
  },
  {
   "cell_type": "markdown",
   "id": "bf2c80fd",
   "metadata": {},
   "source": [
    "# Método 1"
   ]
  },
  {
   "cell_type": "code",
   "execution_count": 8,
   "id": "c20b0720",
   "metadata": {},
   "outputs": [
    {
     "data": {
      "text/plain": [
       "(201909459151, 286830, 'TE00077253', 80, 'Executado', 7, 'Recurso de Infração 1ª Instânci', 'Ativo', 'Em Mãos', None, None, 2, 'Protocolado', 9, 'Arquivado', datetime.datetime(2019, 6, 11, 14, 33, 48), 6, 2019, 'JARIDETR', 'JARI', None, 0, 'JARIDETR', 'JARI', datetime.datetime(2019, 6, 13, 0, 0), 6, 2019, 7, datetime.datetime(2020, 6, 1, 15, 35, 46), 6, 2020, 'DETRAN', 'JARI', 3039790, 'INDEFERIDO', datetime.datetime(2019, 6, 11, 0, 0), 6, 2019, 0, 9, 1, 2, datetime.datetime(2019, 8, 12, 0, 0), 8, 2019, datetime.datetime(2020, 5, 20, 0, 0), 5, 2020, None, 2, 'DETRAN', 125, datetime.datetime(2020, 5, 20, 0, 0), 5, 2020, 'ENCAMINHADO PARA SECAO/RELATOR', 11, None, None, datetime.datetime(2019, 1, 17, 0, 0), 1, 2019, datetime.datetime(2019, 8, 12, 0, 0), 8, 2019, None, 'Tempestivo', 'JIDIANE CHARAO BRAGA', 'Não Informado', 'Não Informado', None, None, None, None, None, None, None, None, None, None, 1, datetime.datetime(2021, 11, 2, 8, 0, 35), 'PREF. MUN. DE GRAVATAI', 'Não Informado', 'Encaminhado ao Relator', 'Não julgado a Revelia', 'Não Informado', 'Redistribuido', 'Requerimento Físico')"
      ]
     },
     "execution_count": 8,
     "metadata": {},
     "output_type": "execute_result"
    }
   ],
   "source": [
    "cnxn = pyodbc.connect('DSN='+ dsn, SERVER=serverport,UID=username, PWD=password)\n",
    "crsr = cnxn.cursor()\n",
    "row  = crsr.execute(\"SELECT * FROM BIGSQL.RIC_DW.RIC_SBX_DETRAN_REQUERIMENTO\").fetchone()\n",
    "cnxn.close()\n",
    "row"
   ]
  },
  {
   "cell_type": "code",
   "execution_count": null,
   "id": "24ee32f0",
   "metadata": {},
   "outputs": [],
   "source": [
    "#nome das colunas\n",
    "cursor = conexao.cursor()\n",
    "for row in cursor.columns(table='RIC_SBX_DETRAN_REQUERIMENTO'):\n",
    "    print(row.column_name)"
   ]
  },
  {
   "cell_type": "code",
   "execution_count": null,
   "id": "b0482d94",
   "metadata": {},
   "outputs": [],
   "source": [
    "#nome das tabeas disponíveis\n",
    "for row in cursor.tables():\n",
    "    print(row.table_name)"
   ]
  },
  {
   "cell_type": "markdown",
   "id": "1a51403e",
   "metadata": {},
   "source": [
    "# Método 2"
   ]
  },
  {
   "cell_type": "code",
   "execution_count": 5,
   "id": "eff05b68",
   "metadata": {},
   "outputs": [],
   "source": [
    "conn_str='database='+database+';hostname='+server+';port='+port+';protocol=tcpip;uid='+username+';pwd='+password\n",
    "c = ibm_db.connect(conn_str,'','')"
   ]
  },
  {
   "cell_type": "code",
   "execution_count": 7,
   "id": "e6602ea3",
   "metadata": {},
   "outputs": [
    {
     "name": "stdout",
     "output_type": "stream",
     "text": [
      "(201902288076, 121100, 'TE00044819', 80, 'Executado', 7, 'Recurso de Infração 1ª Instânci', 'Ativo', 'ECT', datetime.datetime(2019, 1, 25, 0, 0), None, 2, 'Protocolado', 9, 'Arquivado', datetime.datetime(2019, 2, 4, 14, 42, 6), 2, 2019, 'JARIDETR', 'JARI', None, 0, 'JARIDETR', 'JARI', datetime.datetime(2019, 2, 7, 0, 0), 2, 2019, 6, datetime.datetime(2020, 6, 26, 11, 55, 10), 6, 2020, 'DETRAN', 'JARI', 3039790, 'INDEFERIDO', datetime.datetime(2019, 1, 25, 0, 0), 1, 2019, 0, 9, 1, 2, datetime.datetime(2019, 4, 22, 0, 0), 4, 2019, datetime.datetime(2020, 6, 24, 0, 0), 6, 2020, None, 2, 'DETRAN', 125, datetime.datetime(2020, 6, 24, 0, 0), 6, 2020, 'ENCAMINHADO PARA SECAO/RELATOR', 9, None, None, datetime.datetime(2018, 9, 11, 0, 0), 9, 2018, datetime.datetime(2019, 4, 22, 0, 0), 4, 2019, None, 'Tempestivo', 'ERALDO LUIS SCHAUN BROSE', 'Não Informado', 'Não Informado', None, None, None, None, None, None, None, None, None, None, 224, datetime.datetime(2021, 11, 2, 8, 0, 35), 'DETRAN - RS', 'Não Informado', 'Encaminhado ao Relator', 'Não julgado a Revelia', 'Não Informado', 'Redistribuido', 'Requerimento Físico')\n"
     ]
    }
   ],
   "source": [
    "conexao = ibm_db_dbi.Connection(c)\n",
    "cursor = conexao.cursor()\n",
    "sql = 'SELECT * FROM RIC_DW.RIC_SBX_DETRAN_REQUERIMENTO WHERE COD_SERV = 7'\n",
    "cursor.execute(sql)\n",
    "row = cursor.fetchone()\n",
    "conexao.close()\n",
    "print(row)"
   ]
  },
  {
   "cell_type": "code",
   "execution_count": null,
   "id": "f91e96f6",
   "metadata": {},
   "outputs": [],
   "source": []
  }
 ],
 "metadata": {
  "kernelspec": {
   "display_name": "Python 3 (ipykernel)",
   "language": "python",
   "name": "python3"
  },
  "language_info": {
   "codemirror_mode": {
    "name": "ipython",
    "version": 3
   },
   "file_extension": ".py",
   "mimetype": "text/x-python",
   "name": "python",
   "nbconvert_exporter": "python",
   "pygments_lexer": "ipython3",
   "version": "3.9.7"
  }
 },
 "nbformat": 4,
 "nbformat_minor": 5
}
